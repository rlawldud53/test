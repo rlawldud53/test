{
  "nbformat": 4,
  "nbformat_minor": 0,
  "metadata": {
    "colab": {
      "name": "firstKaggle",
      "provenance": [],
      "collapsed_sections": [],
      "authorship_tag": "ABX9TyOmJM/PAmLYOFt7dGsVvSGi",
      "include_colab_link": true
    },
    "kernelspec": {
      "name": "python3",
      "display_name": "Python 3"
    },
    "language_info": {
      "name": "python"
    }
  },
  "cells": [
    {
      "cell_type": "markdown",
      "metadata": {
        "id": "view-in-github",
        "colab_type": "text"
      },
      "source": [
        "<a href=\"https://colab.research.google.com/github/rlawldud53/test/blob/main/firstKaggle.ipynb\" target=\"_parent\"><img src=\"https://colab.research.google.com/assets/colab-badge.svg\" alt=\"Open In Colab\"/></a>"
      ]
    },
    {
      "cell_type": "code",
      "metadata": {
        "id": "LyGSHzCVD2cw"
      },
      "source": [
        "TRAIN_PATH = '/kaggle/input/deepfake-detection-data-preparation/train.csv'\n",
        "SAVE_PATH = '/kaggle/working/model.pth'\n",
        "\n",
        "TEST_SIZE = 0.3\n",
        "RANDOM_STATE = 128\n",
        "EPOCHS = 200\n",
        "BATCH_SIZE = 64\n",
        "LR = 1e-4"
      ],
      "execution_count": null,
      "outputs": []
    }
  ]
}